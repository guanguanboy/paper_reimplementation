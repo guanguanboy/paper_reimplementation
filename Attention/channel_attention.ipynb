{
 "cells": [
  {
   "cell_type": "markdown",
   "metadata": {},
   "source": [
    "# Channel Attention实现方式"
   ]
  },
  {
   "cell_type": "markdown",
   "metadata": {},
   "source": [
    "- SENet中的实现\n",
    "- Attention map shape 为torch.Size([16, 64, 1, 1])，相当于给每个通道指定了一个权重"
   ]
  },
  {
   "cell_type": "code",
   "execution_count": 8,
   "metadata": {},
   "outputs": [],
   "source": [
    "from torch import nn\n",
    "\n",
    "\n",
    "class SELayer(nn.Module):\n",
    "    def __init__(self, channel, reduction=16):\n",
    "        super(SELayer, self).__init__()\n",
    "        self.avg_pool = nn.AdaptiveAvgPool2d(1)\n",
    "        self.fc = nn.Sequential(\n",
    "            nn.Linear(channel, channel // reduction, bias=False),\n",
    "            nn.ReLU(inplace=True),\n",
    "            nn.Linear(channel // reduction, channel, bias=False),\n",
    "            nn.Sigmoid()\n",
    "        )\n",
    "\n",
    "    def forward(self, x):\n",
    "        b, c, _, _ = x.size()\n",
    "        print(b, c)\n",
    "        y = self.avg_pool(x).view(b, c)\n",
    "        y = self.fc(y).view(b, c, 1, 1)\n",
    "        print('attention map shape:', y.shape) #torch.Size([16, 64, 1, 1])\n",
    "        return x * y.expand_as(x) # *号表示哈达玛积，既element-wise乘积\n"
   ]
  },
  {
   "cell_type": "markdown",
   "metadata": {},
   "source": [
    "- 测试SENet"
   ]
  },
  {
   "cell_type": "code",
   "execution_count": 9,
   "metadata": {
    "scrolled": false
   },
   "outputs": [
    {
     "name": "stdout",
     "output_type": "stream",
     "text": [
      "16 64\n",
      "attention map shape: torch.Size([16, 64, 1, 1])\n",
      "torch.Size([16, 64, 64, 48])\n"
     ]
    }
   ],
   "source": [
    "import torch\n",
    "features = torch.randn(16, 64, 64,48)\n",
    "\n",
    "selayer = SELayer(64)\n",
    "\n",
    "feature_out = selayer(features)\n",
    "print(feature_out.shape)"
   ]
  },
  {
   "cell_type": "markdown",
   "metadata": {},
   "source": [
    "- DANet中的实现\n",
    "- attention map shape 为torch.Size([16, 64, 64])，相当于两两通道之间的关系使用一个矩阵表示了出来"
   ]
  },
  {
   "cell_type": "code",
   "execution_count": 21,
   "metadata": {},
   "outputs": [],
   "source": [
    "from mmcv.cnn import ConvModule, Scale\n",
    "import torch.nn.functional as F\n",
    "\n",
    "class CAM(nn.Module):\n",
    "    \"\"\"Channel Attention Module (CAM)\"\"\"\n",
    "\n",
    "    def __init__(self):\n",
    "        super(CAM, self).__init__()\n",
    "        self.gamma = Scale(0) #A learnable scale parameter. 论文中的beta\n",
    "\n",
    "    def forward(self, x):\n",
    "        \"\"\"Forward function.\"\"\"\n",
    "        batch_size, channels, height, width = x.size()\n",
    "        proj_query = x.view(batch_size, channels, -1)\n",
    "        proj_key = x.view(batch_size, channels, -1).permute(0, 2, 1)\n",
    "        energy = torch.bmm(proj_query, proj_key) #matrix multiplication\n",
    "        print('energy shape: ', energy.shape)\n",
    "        energy_new = torch.max(\n",
    "            energy, -1, keepdim=True)[0].expand_as(energy) - energy\n",
    "        print('energy_new shape: ', energy_new.shape)\n",
    "        \n",
    "        attention = F.softmax(energy_new, dim=-1)\n",
    "        print('attention map shape: ', attention.shape) # torch.Size([16, 64, 64])\n",
    "        proj_value = x.view(batch_size, channels, -1)\n",
    "        print('proj_value shape:', proj_value.shape)\n",
    "        out = torch.bmm(attention, proj_value)\n",
    "        print('out shape: ',out.shape)\n",
    "        out = out.view(batch_size, channels, height, width)\n",
    "\n",
    "        out = self.gamma(out) + x\n",
    "        return out\n"
   ]
  },
  {
   "cell_type": "code",
   "execution_count": 22,
   "metadata": {
    "scrolled": true
   },
   "outputs": [
    {
     "name": "stdout",
     "output_type": "stream",
     "text": [
      "energy shape:  torch.Size([16, 64, 64])\n",
      "energy_new shape:  torch.Size([16, 64, 64])\n",
      "attention map shape:  torch.Size([16, 64, 64])\n",
      "proj_value shape: torch.Size([16, 64, 3072])\n",
      "out shape:  torch.Size([16, 64, 3072])\n",
      "torch.Size([16, 64, 64, 48])\n"
     ]
    }
   ],
   "source": [
    "import torch\n",
    "features = torch.randn(16, 64, 64,48)\n",
    "\n",
    "camlayer = CAM()\n",
    "\n",
    "feature_out = camlayer(features)\n",
    "print(feature_out.shape)"
   ]
  },
  {
   "cell_type": "markdown",
   "metadata": {},
   "source": [
    "- ENCAM中的实现\n",
    "- 其与SENet的不同之处在于：SENet中的squeeze操作使用global average pooling来实现，pytorch函数为AdaptiveAvgPool2d，而ENCAM中使用global average pooling 和 global max pooling的和来实现，pytorch的函数为AdaptiveAvgPool2d + AdaptiveMaxPool2d\n",
    "- Attention map shape 为torch.Size([16, 64, 1, 1])，相当于给每个通道指定了一个权重"
   ]
  },
  {
   "cell_type": "code",
   "execution_count": 23,
   "metadata": {},
   "outputs": [],
   "source": [
    "class ChannelAttention(nn.Module):\n",
    "    def __init__(self, in_planes, ):\n",
    "        super(ChannelAttention, self).__init__()\n",
    "        self.avg_pool = nn.AdaptiveAvgPool2d(1)\n",
    "        self.max_pool = nn.AdaptiveMaxPool2d(1)\n",
    "\n",
    "        self.fc1 = nn.Conv2d(in_planes, in_planes // 8, 1, bias=False)\n",
    "        self.relu1 = nn.ReLU()\n",
    "        self.fc2 = nn.Conv2d(in_planes // 8, in_planes, 1, bias=False)\n",
    "\n",
    "        self.sigmoid = nn.Sigmoid()\n",
    "\n",
    "    def forward(self, x):\n",
    "        avg_out = self.fc2(self.relu1(self.fc1(self.avg_pool(x))))\n",
    "        max_out = self.fc2(self.relu1(self.fc1(self.max_pool(x))))\n",
    "        out = avg_out + max_out\n",
    "        return self.sigmoid(out)"
   ]
  },
  {
   "cell_type": "code",
   "execution_count": 25,
   "metadata": {},
   "outputs": [
    {
     "name": "stdout",
     "output_type": "stream",
     "text": [
      "attention map shape:  torch.Size([16, 64, 1, 1])\n"
     ]
    }
   ],
   "source": [
    "import torch\n",
    "features = torch.randn(16, 64, 64,48)\n",
    "\n",
    "channel_attention = ChannelAttention(64)\n",
    "feature_out = channel_attention(features)\n",
    "print('attention map shape: ', feature_out.shape)"
   ]
  }
 ],
 "metadata": {
  "kernelspec": {
   "display_name": "Python 3",
   "language": "python",
   "name": "python3"
  },
  "language_info": {
   "codemirror_mode": {
    "name": "ipython",
    "version": 3
   },
   "file_extension": ".py",
   "mimetype": "text/x-python",
   "name": "python",
   "nbconvert_exporter": "python",
   "pygments_lexer": "ipython3",
   "version": "3.8.3"
  }
 },
 "nbformat": 4,
 "nbformat_minor": 4
}
