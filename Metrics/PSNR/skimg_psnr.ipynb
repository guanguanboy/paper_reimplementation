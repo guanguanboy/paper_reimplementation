{
 "cells": [
  {
   "cell_type": "markdown",
   "metadata": {},
   "source": [
    "# PSNR\n",
    "\n",
    "- skimage中的源码如下："
   ]
  },
  {
   "cell_type": "code",
   "execution_count": null,
   "metadata": {},
   "outputs": [],
   "source": [
    "def peak_signal_noise_ratio(image_true, image_test, *, data_range=None):\n",
    "    \"\"\"\n",
    "    Compute the peak signal to noise ratio (PSNR) for an image.\n",
    "\n",
    "    Parameters\n",
    "    ----------\n",
    "    image_true : ndarray\n",
    "        Ground-truth image, same shape as im_test.\n",
    "    image_test : ndarray\n",
    "        Test image.\n",
    "    data_range : int, optional\n",
    "        The data range of the input image (distance between minimum and\n",
    "        maximum possible values).  By default, this is estimated from the image\n",
    "        data-type.\n",
    "\n",
    "    Returns\n",
    "    -------\n",
    "    psnr : float\n",
    "        The PSNR metric.\n",
    "\n",
    "    Notes\n",
    "    -----\n",
    "    .. versionchanged:: 0.16\n",
    "        This function was renamed from ``skimage.measure.compare_psnr`` to\n",
    "        ``skimage.metrics.peak_signal_noise_ratio``.\n",
    "\n",
    "    References\n",
    "    ----------\n",
    "    .. [1] https://en.wikipedia.org/wiki/Peak_signal-to-noise_ratio\n",
    "\n",
    "    \"\"\"\n",
    "    check_shape_equality(image_true, image_test)\n",
    "\n",
    "\n",
    "    if data_range is None:\n",
    "        if image_true.dtype != image_test.dtype:\n",
    "            warn(\"Inputs have mismatched dtype.  Setting data_range based on \"\n",
    "                 \"im_true.\", stacklevel=2)\n",
    "        dmin, dmax = dtype_range[image_true.dtype.type]\n",
    "        true_min, true_max = np.min(image_true), np.max(image_true)\n",
    "        if true_max > dmax or true_min < dmin:\n",
    "            raise ValueError(\n",
    "                \"im_true has intensity values outside the range expected for \"\n",
    "                \"its data type.  Please manually specify the data_range\")\n",
    "        if true_min >= 0:\n",
    "            # most common case (255 for uint8, 1 for float)\n",
    "            data_range = dmax\n",
    "        else:\n",
    "            data_range = dmax - dmin\n",
    "\n",
    "\n",
    "    image_true, image_test = _as_floats(image_true, image_test)\n",
    "\n",
    "\n",
    "    err = mean_squared_error(image_true, image_test)\n",
    "    return 10 * np.log10((data_range ** 2) / err)"
   ]
  }
 ],
 "metadata": {
  "kernelspec": {
   "display_name": "Python 3",
   "language": "python",
   "name": "python3"
  },
  "language_info": {
   "codemirror_mode": {
    "name": "ipython",
    "version": 3
   },
   "file_extension": ".py",
   "mimetype": "text/x-python",
   "name": "python",
   "nbconvert_exporter": "python",
   "pygments_lexer": "ipython3",
   "version": "3.8.3"
  }
 },
 "nbformat": 4,
 "nbformat_minor": 4
}
