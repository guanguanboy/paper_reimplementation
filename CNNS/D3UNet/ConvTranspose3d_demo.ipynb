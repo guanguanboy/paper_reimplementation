{
 "cells": [
  {
   "cell_type": "code",
   "execution_count": 3,
   "metadata": {},
   "outputs": [],
   "source": [
    "import torch\n",
    "from torch import nn"
   ]
  },
  {
   "cell_type": "markdown",
   "metadata": {},
   "source": [
    "- 使用nn.Upsample时需要注意\n",
    "- 只有trilinear模式，才能处理5D tensor\n",
    "- 使用时，有如下warning：\n",
    "/home/liguanlin/miniconda3/lib/python3.7/site-packages/torch/nn/functional.py:2506: UserWarning: Default upsampling behavior when mode=trilinear is changed to align_corners=False since 0.4.0. Please specify align_corners=True if the old behavior is desired. See the documentation of nn.Upsample for details.\n",
    "- 其结果是会将width，depth和height都增加1倍，也就是变成原来的二倍"
   ]
  },
  {
   "cell_type": "code",
   "execution_count": 5,
   "metadata": {},
   "outputs": [
    {
     "name": "stdout",
     "output_type": "stream",
     "text": [
      "torch.Size([8, 4, 32, 320, 320])\n",
      "torch.Size([8, 128, 16, 160, 160])\n"
     ]
    }
   ],
   "source": [
    "upsample = nn.Upsample(scale_factor=2, mode='trilinear',align_corners=True) #该函数可以处理3D tensor\n",
    "\n",
    "net_input = torch.randn(8, 4, 16, 160, 160)\n",
    "res = upsample(net_input) #torch.Size([8, 4, 32, 320, 320])\n",
    "print(res.shape)\n",
    "\n",
    "net_input = torch.randn(8, 128, 8, 80, 80)\n",
    "res1 = upsample(net_input)\n",
    "print(res1.shape) #torch.Size([8, 128, 16, 160, 160])"
   ]
  },
  {
   "cell_type": "markdown",
   "metadata": {},
   "source": [
    "- nn.ConvTranspose3d() 模块的使用\n",
    "\n",
    "- https://pytorch.org/docs/stable/generated/torch.nn.ConvTranspose3d.html\n",
    "\n",
    "- Applies a 3D transposed convolution operator over an input image composed of several input planes. The transposed convolution operator multiplies each input value element-wise by a learnable kernel, and sums over the outputs from all input feature planes.\n",
    "\n",
    "- This module can be seen as the gradient of Conv3d with respect to its input. It is also known as a fractionally-strided convolution or a deconvolution (although it is not an actual deconvolution operation).\n",
    "\n",
    "- Input：(N, Cin, Din, Hin, Win)\n",
    "- Output: (N, Cout, Dout, Hout, Wout)\n",
    "\n",
    "- 其中Din 和 Dout 分别表示depth的输入和输出\n",
    "- Dout, Hout, Wout的计算公式是一致的，可以参考：https://zhuanlan.zhihu.com/p/343827706\n",
    "- Dout = (Din - 1)*stride + kernel_size - 2*padding\n"
   ]
  },
  {
   "cell_type": "code",
   "execution_count": 7,
   "metadata": {},
   "outputs": [
    {
     "name": "stdout",
     "output_type": "stream",
     "text": [
      "torch.Size([20, 33, 21, 101, 201])\n",
      "torch.Size([20, 33, 21, 46, 97])\n"
     ]
    }
   ],
   "source": [
    "m = nn.ConvTranspose3d(16, 33, 3, stride=2)\n",
    "\n",
    "input = torch.randn(20, 16, 10, 50, 100)\n",
    "output = m(input)\n",
    "print(output.shape)#torch.Size([20, 33, 21, 101, 201])\n",
    "\n",
    "m_complex = nn.ConvTranspose3d(16, 33, kernel_size=(3, 5, 2), stride=(2, 1, 1), padding=(0, 4, 2))\n",
    "output = m_complex(input)\n",
    "print(output.shape) #torch.Size([20, 33, 21, 46, 97])\n"
   ]
  },
  {
   "cell_type": "markdown",
   "metadata": {},
   "source": [
    "- 如何使用nn.ConvTranspose3d将depth，width，height都增加一倍，即变成原来的二倍\n",
    "- nn.ConvTranspose3d(16, 33, kernel_size=(2, 2, 2), stride=(2, 2, 2))"
   ]
  },
  {
   "cell_type": "code",
   "execution_count": 8,
   "metadata": {},
   "outputs": [
    {
     "name": "stdout",
     "output_type": "stream",
     "text": [
      "torch.Size([20, 33, 20, 100, 200])\n"
     ]
    }
   ],
   "source": [
    "m_double = nn.ConvTranspose3d(16, 33, kernel_size=(2, 2, 2), stride=(2, 2, 2))\n",
    "input = torch.randn(20, 16, 10, 50, 100)\n",
    "\n",
    "output = m_double(input)\n",
    "print(output.shape)"
   ]
  }
 ],
 "metadata": {
  "kernelspec": {
   "display_name": "Python 3",
   "language": "python",
   "name": "python3"
  },
  "language_info": {
   "codemirror_mode": {
    "name": "ipython",
    "version": 3
   },
   "file_extension": ".py",
   "mimetype": "text/x-python",
   "name": "python",
   "nbconvert_exporter": "python",
   "pygments_lexer": "ipython3",
   "version": "3.8.3"
  }
 },
 "nbformat": 4,
 "nbformat_minor": 4
}
