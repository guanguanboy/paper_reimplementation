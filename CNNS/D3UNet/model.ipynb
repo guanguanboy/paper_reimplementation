{
 "cells": [
  {
   "cell_type": "code",
   "execution_count": 1,
   "metadata": {},
   "outputs": [],
   "source": [
    "import torch\n",
    "from torch import nn"
   ]
  },
  {
   "cell_type": "code",
   "execution_count": 3,
   "metadata": {},
   "outputs": [
    {
     "name": "stdout",
     "output_type": "stream",
     "text": [
      "torch.Size([32, 4, 32, 320, 320])\n",
      "torch.Size([32, 128, 16, 160, 160])\n"
     ]
    }
   ],
   "source": [
    "upsample = nn.Upsample(scale_factor=2, mode='trilinear') #该函数可以处理3D tensor\n",
    "\n",
    "net_input = torch.randn(32, 4, 16, 160, 160)\n",
    "res = upsample(net_input)\n",
    "print(res.shape)\n",
    "\n",
    "net_input = torch.randn(32, 128, 8, 80, 80)\n",
    "res1 = upsample(net_input)\n",
    "print(res1.shape)"
   ]
  }
 ],
 "metadata": {
  "kernelspec": {
   "display_name": "Python 3",
   "language": "python",
   "name": "python3"
  },
  "language_info": {
   "codemirror_mode": {
    "name": "ipython",
    "version": 3
   },
   "file_extension": ".py",
   "mimetype": "text/x-python",
   "name": "python",
   "nbconvert_exporter": "python",
   "pygments_lexer": "ipython3",
   "version": "3.8.3"
  }
 },
 "nbformat": 4,
 "nbformat_minor": 4
}
